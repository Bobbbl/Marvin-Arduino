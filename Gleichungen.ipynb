{
 "cells": [
  {
   "cell_type": "code",
   "execution_count": 1,
   "metadata": {},
   "outputs": [],
   "source": [
    "from sympy import *\n",
    "init_printing(use_unicode=True)"
   ]
  },
  {
   "cell_type": "markdown",
   "metadata": {},
   "source": []
  },
  {
   "cell_type": "code",
   "execution_count": 43,
   "metadata": {},
   "outputs": [],
   "source": [
    "countx, tx, CPU, SPM, X, P, Y = symbols('c_x t_x cpu SPM x P y')\n",
    "fx, fy, f, winkel = symbols('f_x f_y f \\delta')"
   ]
  },
  {
   "cell_type": "code",
   "execution_count": 106,
   "metadata": {},
   "outputs": [],
   "source": [
    "wr = acos((X*1+Y*0)/(sqrt(X**2+Y**2)*sqrt(1**2+0**2)))"
   ]
  },
  {
   "cell_type": "code",
   "execution_count": 107,
   "metadata": {},
   "outputs": [
    {
     "data": {
      "image/png": "[encoded data removed]",
      "text/latex": [
       "$$\\delta = \\operatorname{acos}{\\left (\\frac{x}{\\sqrt{x^{2} + y^{2}}} \\right )}$$"
      ],
      "text/plain": [
       "             ⎛     x      ⎞\n",
       "\\delta = acos⎜────────────⎟\n",
       "             ⎜   _________⎟\n",
       "             ⎜  ╱  2    2 ⎟\n",
       "             ⎝╲╱  x  + y  ⎠"
      ]
     },
     "execution_count": 107,
     "metadata": {},
     "output_type": "execute_result"
    }
   ],
   "source": [
    "WINKEL = Eq(winkel , wr)\n",
    "WINKEL"
   ]
  },
  {
   "cell_type": "code",
   "execution_count": 108,
   "metadata": {},
   "outputs": [
    {
     "data": {
      "image/png": "[encoded data removed]",
      "text/latex": [
       "$$f_{x} = f \\cos{\\left (\\delta \\right )}$$"
      ],
      "text/plain": [
       "fₓ = f⋅cos(\\delta)"
      ]
     },
     "execution_count": 108,
     "metadata": {},
     "output_type": "execute_result"
    }
   ],
   "source": [
    "FX = Eq(fx,cos(winkel)*f)\n",
    "FX"
   ]
  },
  {
   "cell_type": "code",
   "execution_count": 109,
   "metadata": {},
   "outputs": [
    {
     "data": {
      "image/png": "[encoded data removed]",
      "text/latex": [
       "$$t_{x} = \\frac{x}{f_{x}}$$"
      ],
      "text/plain": [
       "     x \n",
       "tₓ = ──\n",
       "     fₓ"
      ]
     },
     "execution_count": 109,
     "metadata": {},
     "output_type": "execute_result"
    }
   ],
   "source": [
    "TX = Eq(tx,X/fx)\n",
    "TX"
   ]
  },
  {
   "cell_type": "code",
   "execution_count": 110,
   "metadata": {},
   "outputs": [
    {
     "data": {
      "image/png": "[encoded data removed]",
      "text/latex": [
       "$$t_{x} = \\frac{x}{f \\cos{\\left (\\delta \\right )}}$$"
      ],
      "text/plain": [
       "           x      \n",
       "tₓ = ─────────────\n",
       "     f⋅cos(\\delta)"
      ]
     },
     "execution_count": 110,
     "metadata": {},
     "output_type": "execute_result"
    }
   ],
   "source": [
    "TXFX = TX.subs([(fx, FX.rhs)])\n",
    "TXFX"
   ]
  },
  {
   "cell_type": "code",
   "execution_count": 111,
   "metadata": {},
   "outputs": [
    {
     "data": {
      "image/png": "[encoded data removed]",
      "text/latex": [
       "$$t_{x} = \\frac{\\sqrt{x^{2} + y^{2}}}{f}$$"
      ],
      "text/plain": [
       "        _________\n",
       "       ╱  2    2 \n",
       "     ╲╱  x  + y  \n",
       "tₓ = ────────────\n",
       "          f      "
      ]
     },
     "execution_count": 111,
     "metadata": {},
     "output_type": "execute_result"
    }
   ],
   "source": [
    "TXFXW = TXFX.subs([(winkel, WINKEL.rhs)])\n",
    "TXFXW"
   ]
  },
  {
   "cell_type": "code",
   "execution_count": 112,
   "metadata": {},
   "outputs": [
    {
     "data": {
      "image/png": "[encoded data removed]",
      "text/latex": [
       "$$c_{x} = \\frac{30 cpu t_{x}}{P SPM x}$$"
      ],
      "text/plain": [
       "     30⋅cpu⋅tₓ\n",
       "cₓ = ─────────\n",
       "      P⋅SPM⋅x "
      ]
     },
     "execution_count": 112,
     "metadata": {},
     "output_type": "execute_result"
    }
   ],
   "source": [
    "COUNTX = Eq(countx, (tx*60*CPU)/(SPM*X*2*P))\n",
    "COUNTX"
   ]
  },
  {
   "cell_type": "code",
   "execution_count": 113,
   "metadata": {},
   "outputs": [
    {
     "data": {
      "image/png": "[encoded data removed]",
      "text/latex": [
       "$$c_{x} = \\frac{30 cpu \\sqrt{x^{2} + y^{2}}}{P SPM f x}$$"
      ],
      "text/plain": [
       "               _________\n",
       "              ╱  2    2 \n",
       "     30⋅cpu⋅╲╱  x  + y  \n",
       "cₓ = ───────────────────\n",
       "          P⋅SPM⋅f⋅x     "
      ]
     },
     "execution_count": 113,
     "metadata": {},
     "output_type": "execute_result"
    }
   ],
   "source": [
    "COUNTXTX = COUNTX.subs([(tx, TXFXW.rhs)])\n",
    "COUNTXTX"
   ]
  },
  {
   "cell_type": "code",
   "execution_count": 114,
   "metadata": {},
   "outputs": [
    {
     "data": {
      "image/png": "[encoded data removed]",
      "text/latex": [
       "$$c_{x} = 13258.2521472478$$"
      ],
      "text/plain": [
       "cₓ = 13258.2521472478"
      ]
     },
     "execution_count": 114,
     "metadata": {},
     "output_type": "execute_result"
    }
   ],
   "source": [
    "COUNTXTX.subs([(CPU, 16*10**6), (X, 1), (Y, 1), (SPM, 800), (P, 64), (f, 1)]).evalf()"
   ]
  },
  {
   "cell_type": "code",
   "execution_count": null,
   "metadata": {},
   "outputs": [],
   "source": []
  },
  {
   "cell_type": "code",
   "execution_count": null,
   "metadata": {},
   "outputs": [],
   "source": []
  }
 ],
 "metadata": {
  "kernelspec": {
   "display_name": "Python 3",
   "language": "python",
   "name": "python3"
  },
  "language_info": {
   "codemirror_mode": {
    "name": "ipython",
    "version": 3
   },
   "file_extension": ".py",
   "mimetype": "text/x-python",
   "name": "python",
   "nbconvert_exporter": "python",
   "pygments_lexer": "ipython3",
   "version": "3.6.5"
  }
 },
 "nbformat": 4,
 "nbformat_minor": 2
}
