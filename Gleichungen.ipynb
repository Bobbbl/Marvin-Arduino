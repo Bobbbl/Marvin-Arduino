{
 "cells": [
  {
   "cell_type": "code",
   "execution_count": 5,
   "metadata": {},
   "outputs": [],
   "source": [
    "from sympy import *\n",
    "init_printing(use_unicode=True)"
   ]
  },
  {
   "cell_type": "markdown",
   "metadata": {},
   "source": []
  },
  {
   "cell_type": "code",
   "execution_count": 6,
   "metadata": {},
   "outputs": [],
   "source": [
    "countx, tx, CPU, SPM, X, P, Y = symbols('c_x t_x cpu SPM X P Y')\n",
    "fx, fy, f, winkel, fs = symbols('f_x f_y f \\delta f_s')"
   ]
  },
  {
   "cell_type": "code",
   "execution_count": 7,
   "metadata": {},
   "outputs": [],
   "source": [
    "wr = acos((X*1+Y*0)/(sqrt(X**2+Y**2)*sqrt(1**2+0**2)))"
   ]
  },
  {
   "cell_type": "code",
   "execution_count": 8,
   "metadata": {},
   "outputs": [
    {
     "data": {
      "image/png": "[encoded data removed]",
      "text/latex": [
       "$$\\delta = \\operatorname{acos}{\\left (\\frac{X}{\\sqrt{X^{2} + Y^{2}}} \\right )}$$"
      ],
      "text/plain": [
       "             ⎛     X      ⎞\n",
       "\\delta = acos⎜────────────⎟\n",
       "             ⎜   _________⎟\n",
       "             ⎜  ╱  2    2 ⎟\n",
       "             ⎝╲╱  X  + Y  ⎠"
      ]
     },
     "execution_count": 8,
     "metadata": {},
     "output_type": "execute_result"
    }
   ],
   "source": [
    "WINKEL = Eq(winkel , wr)\n",
    "WINKEL"
   ]
  },
  {
   "cell_type": "code",
   "execution_count": 9,
   "metadata": {},
   "outputs": [
    {
     "data": {
      "image/png": "[encoded data removed]",
      "text/latex": [
       "$$f_{s} = \\frac{f}{60}$$"
      ],
      "text/plain": [
       "     f \n",
       "fₛ = ──\n",
       "     60"
      ]
     },
     "execution_count": 9,
     "metadata": {},
     "output_type": "execute_result"
    }
   ],
   "source": [
    "FS = Eq(fs,f/60)\n",
    "FS"
   ]
  },
  {
   "cell_type": "code",
   "execution_count": 11,
   "metadata": {},
   "outputs": [
    {
     "data": {
      "image/png": "[encoded data removed]",
      "text/latex": [
       "$$f_{x} = \\frac{f \\cos{\\left (\\delta \\right )}}{60}$$"
      ],
      "text/plain": [
       "     f⋅cos(\\delta)\n",
       "fₓ = ─────────────\n",
       "           60     "
      ]
     },
     "execution_count": 11,
     "metadata": {},
     "output_type": "execute_result"
    }
   ],
   "source": [
    "FX = Eq(fx, cos(winkel)*fs)\n",
    "FX = FX.subs([(fs, FS.rhs)])\n",
    "FX"
   ]
  },
  {
   "cell_type": "code",
   "execution_count": 12,
   "metadata": {},
   "outputs": [
    {
     "data": {
      "image/png": "[encoded data removed]",
      "text/latex": [
       "$$t_{x} = \\frac{X}{f_{x}}$$"
      ],
      "text/plain": [
       "     X \n",
       "tₓ = ──\n",
       "     fₓ"
      ]
     },
     "execution_count": 12,
     "metadata": {},
     "output_type": "execute_result"
    }
   ],
   "source": [
    "TX = Eq(tx,X/fx)\n",
    "TX"
   ]
  },
  {
   "cell_type": "code",
   "execution_count": 13,
   "metadata": {},
   "outputs": [
    {
     "data": {
      "image/png": "[encoded data removed]",
      "text/latex": [
       "$$t_{x} = \\frac{60 X}{f \\cos{\\left (\\delta \\right )}}$$"
      ],
      "text/plain": [
       "          60⋅X    \n",
       "tₓ = ─────────────\n",
       "     f⋅cos(\\delta)"
      ]
     },
     "execution_count": 13,
     "metadata": {},
     "output_type": "execute_result"
    }
   ],
   "source": [
    "TXFX = TX.subs([(fx, FX.rhs)])\n",
    "TXFX"
   ]
  },
  {
   "cell_type": "code",
   "execution_count": 14,
   "metadata": {},
   "outputs": [
    {
     "data": {
      "image/png": "[encoded data removed]",
      "text/latex": [
       "$$t_{x} = \\frac{60 \\sqrt{X^{2} + Y^{2}}}{f}$$"
      ],
      "text/plain": [
       "           _________\n",
       "          ╱  2    2 \n",
       "     60⋅╲╱  X  + Y  \n",
       "tₓ = ───────────────\n",
       "            f       "
      ]
     },
     "execution_count": 14,
     "metadata": {},
     "output_type": "execute_result"
    }
   ],
   "source": [
    "TXFXW = TXFX.subs([(winkel, WINKEL.rhs)])\n",
    "TXFXW"
   ]
  },
  {
   "cell_type": "code",
   "execution_count": 20,
   "metadata": {},
   "outputs": [
    {
     "data": {
      "image/png": "[encoded data removed]",
      "text/latex": [
       "$$c_{y} = \\frac{30 cpu t_{y}}{P SPM Y}$$"
      ],
      "text/plain": [
       "      30⋅cpu⋅t_y\n",
       "c_y = ──────────\n",
       "       P⋅SPM⋅Y  "
      ]
     },
     "execution_count": 20,
     "metadata": {},
     "output_type": "execute_result"
    }
   ],
   "source": [
    "county, ty = symbols('c_y t_y')\n",
    "COUNTX = Eq(countx, (tx*60*CPU)/(SPM*X*2*P))\n",
    "COUNTY = Eq(county, (ty*60*CPU)/(SPM*Y*2*P))\n",
    "COUNTX\n",
    "COUNTY"
   ]
  },
  {
   "cell_type": "code",
   "execution_count": 16,
   "metadata": {},
   "outputs": [
    {
     "data": {
      "image/png": "[encoded data removed]",
      "text/latex": [
       "$$c_{x} = \\frac{1800 cpu \\sqrt{X^{2} + Y^{2}}}{P SPM X f}$$"
      ],
      "text/plain": [
       "                 _________\n",
       "                ╱  2    2 \n",
       "     1800⋅cpu⋅╲╱  X  + Y  \n",
       "cₓ = ─────────────────────\n",
       "           P⋅SPM⋅X⋅f      "
      ]
     },
     "execution_count": 16,
     "metadata": {},
     "output_type": "execute_result"
    }
   ],
   "source": [
    "COUNTXTX = COUNTX.subs([(tx, TXFXW.rhs)])\n",
    "COUNTXTX"
   ]
  },
  {
   "cell_type": "code",
   "execution_count": 21,
   "metadata": {},
   "outputs": [
    {
     "data": {
      "image/png": "[encoded data removed]",
      "text/latex": [
       "$$c_{x} = 17578.125$$"
      ],
      "text/plain": [
       "cₓ = 17578.125"
      ]
     },
     "execution_count": 21,
     "metadata": {},
     "output_type": "execute_result"
    }
   ],
   "source": [
    "COUNTXTX.subs([(CPU, 16000000), (X, 8), (Y, 6), (SPM, 51200), (P, 8), (f, 5)]).evalf()"
   ]
  },
  {
   "cell_type": "code",
   "execution_count": 22,
   "metadata": {},
   "outputs": [
    {
     "data": {
      "image/png": "[encoded data removed]",
      "text/latex": [
       "$$t_{x} = 96.7470929795826$$"
      ],
      "text/plain": [
       "tₓ = 96.7470929795826"
      ]
     },
     "execution_count": 22,
     "metadata": {},
     "output_type": "execute_result"
    }
   ],
   "source": [
    "TXFXW.subs([(X, 8), (Y, 1), (f, 5)]).evalf()"
   ]
  },
  {
   "cell_type": "code",
   "execution_count": null,
   "metadata": {},
   "outputs": [],
   "source": []
  }
 ],
 "metadata": {
  "kernelspec": {
   "display_name": "Python 3",
   "language": "python",
   "name": "python3"
  },
  "language_info": {
   "codemirror_mode": {
    "name": "ipython",
    "version": 3
   },
   "file_extension": ".py",
   "mimetype": "text/x-python",
   "name": "python",
   "nbconvert_exporter": "python",
   "pygments_lexer": "ipython3",
   "version": "3.6.5"
  }
 },
 "nbformat": 4,
 "nbformat_minor": 2
}
